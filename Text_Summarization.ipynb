{
  "nbformat": 4,
  "nbformat_minor": 0,
  "metadata": {
    "colab": {
      "provenance": [],
      "authorship_tag": "ABX9TyObUnVaJzWlX+4ZLPuxoXlH",
      "include_colab_link": true
    },
    "kernelspec": {
      "name": "python3",
      "display_name": "Python 3"
    },
    "language_info": {
      "name": "python"
    }
  },
  "cells": [
    {
      "cell_type": "markdown",
      "metadata": {
        "id": "view-in-github",
        "colab_type": "text"
      },
      "source": [
        "<a href=\"https://colab.research.google.com/github/bhavanajamalpur/Basics_git/blob/main/Text_Summarization.ipynb\" target=\"_parent\"><img src=\"https://colab.research.google.com/assets/colab-badge.svg\" alt=\"Open In Colab\"/></a>"
      ]
    },
    {
      "cell_type": "code",
      "source": [
        "import nltk\n",
        "from nltk.corpus import stopwords\n",
        "from nltk.stem import PorterStemmer"
      ],
      "metadata": {
        "id": "-bNHogOdz0iq"
      },
      "execution_count": 46,
      "outputs": []
    },
    {
      "cell_type": "code",
      "source": [
        "import string\n",
        "punctuations = string.punctuation\n",
        "\n",
        "def create_freq_dict(text_string):\n",
        "    stopWords = set(stopwords.words(\"english\"))\n",
        "    words = word_tokenize(text_string.lower())\n",
        "    ps = PorterStemmer()\n",
        "    # remove punctuations\n",
        "    word_frequencies = dict()\n",
        "    for word in words:\n",
        "        word = ps.stem(word)\n",
        "        if ((word in stopWords) or (word in punctuations)):\n",
        "            continue\n",
        "        if word in word_frequencies:\n",
        "            word_frequencies[word] += 1\n",
        "        else:\n",
        "            word_frequencies[word] = 1\n",
        "\n",
        "    return word_frequencies"
      ],
      "metadata": {
        "id": "IPgaOlT6z_jh"
      },
      "execution_count": 29,
      "outputs": []
    },
    {
      "cell_type": "code",
      "source": [
        "mytext = \"\"\"An old man lived in the village.\n",
        "He was one of the most unfortunate people in the world.\n",
        "The whole village was tired of him; he was always gloomy, he constantly complained and was always in a bad mood.\n",
        "The longer he lived, the more bile he was becoming and the more poisonous were his words.\n",
        "People avoided him, because his misfortune became contagious. It was even unnatural and insulting to be happy next to him.\"\"\"\n",
        "\n",
        "mywordfreq = create_freq_dict(mytext)\n",
        "print(mywordfreq)"
      ],
      "metadata": {
        "colab": {
          "base_uri": "https://localhost:8080/"
        },
        "id": "Z34LpC6Z0FUP",
        "outputId": "d2b8caae-ea3b-4b34-95a0-680fd9e61792"
      },
      "execution_count": 30,
      "outputs": [
        {
          "output_type": "stream",
          "name": "stdout",
          "text": [
            "{'old': 1, 'man': 1, 'live': 2, 'villag': 2, 'wa': 6, 'one': 1, 'unfortun': 1, 'peopl': 2, 'world': 1, 'whole': 1, 'tire': 1, 'alway': 2, 'gloomi': 1, 'constantli': 1, 'complain': 1, 'bad': 1, 'mood': 1, 'longer': 1, 'bile': 1, 'becom': 1, 'poison': 1, 'hi': 2, 'word': 1, 'avoid': 1, 'becaus': 1, 'misfortun': 1, 'becam': 1, 'contagi': 1, 'even': 1, 'unnatur': 1, 'insult': 1, 'happi': 1, 'next': 1}\n"
          ]
        }
      ]
    },
    {
      "cell_type": "code",
      "source": [
        "def score_sentences(sentences, word_frequencies):\n",
        "    sentence_scores = dict()\n",
        "\n",
        "    for sentence in sentences:\n",
        "        word_count = (len(word_tokenize(sentence)))\n",
        "        word_count_except_sw = 0\n",
        "        for word in word_frequencies:\n",
        "            if word in sentence.lower():\n",
        "                word_count_except_sw += 1\n",
        "                #if sentence[:10] in sentence_scores:\n",
        "                if sentence in sentence_scores:\n",
        "                    #sentence_scores[sentence[:10]] += word_frequencies[word]\n",
        "                    sentence_scores[sentence] += word_frequencies[word]\n",
        "                else:\n",
        "                    #sentence_scores[sentence[:10]] = word_frequencies[word]\n",
        "                    sentence_scores[sentence] = word_frequencies[word]\n",
        "\n",
        "        #if sentence[:10] in sentence_scores:\n",
        "        if sentence in sentence_scores:\n",
        "            # higher no. of words in a sentence should not make its score higher\n",
        "            #sentence_scores[sentence[:10]] = sentence_scores[sentence[:10]] / word_count_except_sw\n",
        "            sentence_scores[sentence] = sentence_scores[sentence] / word_count_except_sw\n",
        "\n",
        "    return sentence_scores"
      ],
      "metadata": {
        "id": "lqzGTx4q0QAo"
      },
      "execution_count": 31,
      "outputs": []
    },
    {
      "cell_type": "code",
      "source": [
        "mytext = \"\"\"An old man lived in the village.\n",
        "He was one of the most unfortunate people in the world.\n",
        "The whole village was tired of him; he was always gloomy, he constantly complained and was always in a bad mood.\n",
        "The longer he lived, the more bile he was becoming and the more poisonous were his words.\n",
        "People avoided him, because his misfortune became contagious. It was even unnatural and insulting to be happy next to him.\"\"\"\n",
        "mysentences = sent_tokenize(mytext)\n",
        "mysentscores = score_sentences(mysentences, mywordfreq)\n",
        "print(mysentscores)"
      ],
      "metadata": {
        "colab": {
          "base_uri": "https://localhost:8080/"
        },
        "id": "sUBufQD30WEc",
        "outputId": "5b2e74f2-021f-4e28-9bca-e927f112ff4b"
      },
      "execution_count": 32,
      "outputs": [
        {
          "output_type": "stream",
          "name": "stdout",
          "text": [
            "{'An old man lived in the village.': 1.5, 'He was one of the most unfortunate people in the world.': 2.2, 'The whole village was tired of him; he was always gloomy, he constantly complained and was always in a bad mood.': 1.8888888888888888, 'The longer he lived, the more bile he was becoming and the more poisonous were his words.': 1.875, 'People avoided him, because his misfortune became contagious.': 1.2857142857142858, 'It was even unnatural and insulting to be happy next to him.': 2.0}\n"
          ]
        }
      ]
    },
    {
      "cell_type": "code",
      "source": [
        "mysentscores.keys()"
      ],
      "metadata": {
        "colab": {
          "base_uri": "https://localhost:8080/"
        },
        "id": "BsQly8At0aw2",
        "outputId": "edab685e-580f-4318-9ca1-58fe31a9aec9"
      },
      "execution_count": 33,
      "outputs": [
        {
          "output_type": "execute_result",
          "data": {
            "text/plain": [
              "dict_keys(['An old man lived in the village.', 'He was one of the most unfortunate people in the world.', 'The whole village was tired of him; he was always gloomy, he constantly complained and was always in a bad mood.', 'The longer he lived, the more bile he was becoming and the more poisonous were his words.', 'People avoided him, because his misfortune became contagious.', 'It was even unnatural and insulting to be happy next to him.'])"
            ]
          },
          "metadata": {},
          "execution_count": 33
        }
      ]
    },
    {
      "cell_type": "code",
      "source": [
        "def find_average_score(sentence_scores):\n",
        "    sumValues = 0\n",
        "    for sentence in sentence_scores:\n",
        "        sumValues += sentence_scores[sentence]\n",
        "\n",
        "    # Average value of a sentence from original text\n",
        "    average = (sumValues / len(sentence_scores))\n",
        "\n",
        "    return average"
      ],
      "metadata": {
        "id": "V_OQJ_hI0gia"
      },
      "execution_count": 34,
      "outputs": []
    },
    {
      "cell_type": "code",
      "source": [
        "myavg = find_average_score(mysentscores)\n",
        "myavg"
      ],
      "metadata": {
        "colab": {
          "base_uri": "https://localhost:8080/"
        },
        "id": "uLh7F-BR0khq",
        "outputId": "13859843-b1e6-448f-fcb6-033162fce04e"
      },
      "execution_count": 35,
      "outputs": [
        {
          "output_type": "execute_result",
          "data": {
            "text/plain": [
              "1.7916005291005292"
            ]
          },
          "metadata": {},
          "execution_count": 35
        }
      ]
    },
    {
      "cell_type": "code",
      "source": [
        "def generate_summary(sentences, sentence_scores, threshold):\n",
        "    sentence_count = 0\n",
        "    summary = ''\n",
        "\n",
        "    for sentence in sentences:\n",
        "        # if sentence[:10] in sentence_scores and sentence_scores[sentence[:10]] >= (threshold):\n",
        "        if sentence in sentence_scores and sentence_scores[sentence] >= (threshold):\n",
        "            summary += \" \" + sentence\n",
        "            sentence_count += 1\n",
        "\n",
        "    return summary"
      ],
      "metadata": {
        "id": "VQp7UrNe0ovM"
      },
      "execution_count": 36,
      "outputs": []
    },
    {
      "cell_type": "code",
      "source": [
        "# mytext = \"\"\"An old man lived in the village.\n",
        "# He was one of the most unfortunate people in the world.\n",
        "# The whole village was tired of him; he was always gloomy, he constantly complained and was always in a bad mood.\n",
        "# The longer he lived, the more bile he was becoming and the more poisonous were his words.\n",
        "# People avoided him, because his misfortune became contagious. It was even unnatural and insulting to be happy next to him.\"\"\"\n",
        "# mysentences = sent_tokenize(mytext)\n",
        "# mysentscores = score_sentences(mysentences, mywordfreq)\n",
        "# myavg = find_average_score(mysentscores)\n",
        "mysummary = generate_summary(mysentences, mysentscores, myavg*1.1)\n",
        "mysummary"
      ],
      "metadata": {
        "colab": {
          "base_uri": "https://localhost:8080/",
          "height": 52
        },
        "id": "DI0Ixeb30uHD",
        "outputId": "17b148f8-929b-40d5-82b6-f5db6295d795"
      },
      "execution_count": 37,
      "outputs": [
        {
          "output_type": "execute_result",
          "data": {
            "text/plain": [
              "' He was one of the most unfortunate people in the world. It was even unnatural and insulting to be happy next to him.'"
            ],
            "application/vnd.google.colaboratory.intrinsic+json": {
              "type": "string"
            }
          },
          "metadata": {},
          "execution_count": 37
        }
      ]
    },
    {
      "cell_type": "code",
      "source": [
        "def run_summarization(text, threshold=1.3):\n",
        "\n",
        "    word_frequencies = create_freq_dict(text)\n",
        "    sentences = sent_tokenize(text)\n",
        "    sentence_scores = score_sentences(sentences, word_frequencies)\n",
        "    sentence_avg_score = find_average_score(sentence_scores)\n",
        "    summary = generate_summary(sentences, sentence_scores, threshold * sentence_avg_score)\n",
        "\n",
        "    return summary"
      ],
      "metadata": {
        "id": "6F0RMc3B01dc"
      },
      "execution_count": 38,
      "outputs": []
    },
    {
      "cell_type": "code",
      "source": [
        "import nltk\n",
        "nltk.download('stopwords')\n",
        "nltk.download('punkt')"
      ],
      "metadata": {
        "colab": {
          "base_uri": "https://localhost:8080/"
        },
        "id": "IcubtN0U09AE",
        "outputId": "7fb9c9d3-795d-4346-c2c0-52389f3d1405"
      },
      "execution_count": 39,
      "outputs": [
        {
          "output_type": "stream",
          "name": "stderr",
          "text": [
            "[nltk_data] Downloading package stopwords to /root/nltk_data...\n",
            "[nltk_data]   Package stopwords is already up-to-date!\n",
            "[nltk_data] Downloading package punkt to /root/nltk_data...\n",
            "[nltk_data]   Package punkt is already up-to-date!\n"
          ]
        },
        {
          "output_type": "execute_result",
          "data": {
            "text/plain": [
              "True"
            ]
          },
          "metadata": {},
          "execution_count": 39
        }
      ]
    },
    {
      "cell_type": "code",
      "source": [
        "text=\"\"\"\n",
        "An old man lived in the village. He was one of the most unfortunate people in the world. The whole village was tired of him; he was always gloomy, he constantly complained and was always in a bad mood.\n",
        "The longer he lived, the more bile he was becoming and the more poisonous were his words. People avoided him, because his misfortune became contagious. It was even unnatural and insulting to be happy next to him.\n",
        "\n",
        "He created the feeling of unhappiness in others.\n",
        "But one day, when he turned eighty years old, an incredible thing happened. Instantly everyone started hearing the rumour: “An Old Man is happy today, he doesn’t complain about anything, smiles, and even his face is freshened up.”\n",
        "The whole village gathered together. The old man was asked:\n",
        "Villager: What happened to you?\n",
        "“Nothing special. Eighty years I’ve been chasing happiness, and it was useless. And then I decided to live without happiness and just enjoy life. That’s why I’m happy now.” – An Old Man\n",
        "\n",
        "\"\"\""
      ],
      "metadata": {
        "id": "k1xbhIjQ1CmI"
      },
      "execution_count": 40,
      "outputs": []
    },
    {
      "cell_type": "code",
      "source": [
        "result = run_summarization(text, 1)\n",
        "print(result)"
      ],
      "metadata": {
        "colab": {
          "base_uri": "https://localhost:8080/"
        },
        "id": "bXzVnDxQ1Giu",
        "outputId": "6feb7d1e-5afb-438b-ac32-5b2aaf69e280"
      },
      "execution_count": 41,
      "outputs": [
        {
          "output_type": "stream",
          "name": "stdout",
          "text": [
            " \n",
            "An old man lived in the village. He was one of the most unfortunate people in the world. The whole village was tired of him; he was always gloomy, he constantly complained and was always in a bad mood. It was even unnatural and insulting to be happy next to him. The old man was asked:\n",
            "Villager: What happened to you? Eighty years I’ve been chasing happiness, and it was useless. That’s why I’m happy now.” – An Old Man\n"
          ]
        }
      ]
    },
    {
      "cell_type": "code",
      "source": [
        "#Example 2\n",
        "# News article - Banks asked to refund charges collected for UPI, digital payments after Jan 1\n",
        "text = \"\"\"\n",
        "In a move to encourage digital payments in the country, the Central Board of Direct Taxes (CBDT) said that banks can not levy any extra charge on transactions made through electronic modes on or after January 1, 2020. \"... based on section 10A of the Payment and Settlement Systems Act 2007, any charge including the MDR (Merchant Discount Rate) shall not be applicable on or after 1st January, 2020 on payment made through prescribed electronic modes,\" CBDT said in a statement.\n",
        "The electronics modes of transactions include 1) Debit card powered by RuPay, 2) Unified Payment Interface (UPI), 3) Unified Payment Interface Quick Response code (UPI QR code), BHIM UPI QR code. \"According to Section 10 A under the Payments and Settlement Systems Act 2007, no bank or system provider shall impose any charge on a payer making payment or beneficiary receiving payment, through electronic modes prescribed under section 269SU of IT Act,\" the CBDT said.\n",
        "The regulator noticed that certain banks collect charges for UPI transactions. A certain number of transactions are free and beyond the limit, bank charges for every UPI payment. \"Such practice on parts of banks is a breach of Section 10A of the PSS Act as well as section 269SU of the IT act,\" the CBDT said in its circular. Hence, the banks can not levy any extra charges for UPI transactions.\n",
        "\n",
        "\"Such breach attracts penal provisions under section 271DB of the IT Act as well as section 26 of the PSS Act,\" CBDT further added.\n",
        "The banks were also advised to refund charges collected from customers for digital transaction on or after January 1, 2020. \"Banks are therefore, advised to immediately refund the charges collected, if any, on or after 1st January, 2020 on transactions carried out using the electronic modes prescribed under section 269SU and not to impose charges on any future transactions carried through the said prescribed mode,\" the regulator mentioned in its circular.\n",
        "UPI-based payments clocked 1.49 billion transactions in July, according data released by National Payments Corp. of India. Digital payments have become a necessity in the wake of coronavirus outbreak. \"Payment systems have demonstrated that they are dependable and durable, and continue to command a high level of confidence from the general population,\" said PwC in its report.\n",
        "With a majority of the sectors that contribute to digital payments still in a state of flux, it is still too early to ascertain the long-term impact of COVID-19 on digital payments, it added.\n",
        "\"\"\""
      ],
      "metadata": {
        "id": "0zgg7C0I1NXs"
      },
      "execution_count": 42,
      "outputs": []
    },
    {
      "cell_type": "code",
      "source": [
        "result = run_summarization(text, 1.2)\n",
        "print(result)"
      ],
      "metadata": {
        "colab": {
          "base_uri": "https://localhost:8080/"
        },
        "id": "EfjVe_601TMz",
        "outputId": "88b327ef-6d09-4a5a-e66b-d5ba2ecb9dca"
      },
      "execution_count": 43,
      "outputs": [
        {
          "output_type": "stream",
          "name": "stdout",
          "text": [
            " The regulator noticed that certain banks collect charges for UPI transactions. A certain number of transactions are free and beyond the limit, bank charges for every UPI payment. Hence, the banks can not levy any extra charges for UPI transactions.\n"
          ]
        }
      ]
    },
    {
      "cell_type": "code",
      "source": [
        "#Example 3\n",
        "text = \"\"\"\n",
        "Reliance Jio has been under the radar for not launching impressive JioFiber plans. However, it has finally changed as we now have truly unlimited JioFiber plans starting at just Rs 399. Reliance Jio today announced four new broadband plans under its ‘JioFiber’ brand and they ship with up to 300 Mbps speeds. With these new plans, Jio is aiming at Bharti Airtel and ACT Fibernet by providing faster speeds at lower prices. For example, the newly launched Rs 1,499 broadband plan is a direct competition to Airtel’s Rs 1,499 Premium broadband plan. JioFiber plans will also come with a subscription to 11 OTT apps which is something unique in its own. The ISP also announced a new scheme where users can enjoy a free trial of JioFiber for 30 days without any terms and conditions.\n",
        "\n",
        "JioFiber New Plans Start at Rs 399 With 30 Mbps Unlimited Data\n",
        "JioFiber now has four new plans of Rs 399, Rs 699, Rs 999 and Rs 1,499. The Rs 399 JioFiber plan offers 30 Mbps speeds, unlimited data and unlimited voice calling benefit. The Rs 699 pack will provide a user with 100 Mbps upload & download speeds, unlimited voice calling and there’s no FUP limit as well.\n",
        "\n",
        "The Rs 999 JioFiber broadband plan will offer 150 Mbps speeds, unlimited voice calling and a free subscription to 11 OTT apps. Lastly, we have the Rs 1,499 broadband plan that comes with 300 Mbps speeds, unlimited voice calling benefit and a free subscription to 12 OTT apps. Do make a note that an additional 18% GST will be applicable on all the plans. Long-term plan offers are yet to be revealed by Reliance Jio.\n",
        "\n",
        "Reliance Jio also announced that the new plans would be called ‘JioFiber Home Tariff Plans.’ All the Home plans will have symmetric speed meaning download speed=upload speed. This has been a major issue reported by several JioFiber users as the company used to restrict upload speeds to 10% of the download speeds earlier.\n",
        "\n",
        "JioFiber No-Condition 30-Day Free Trial Announced\n",
        "Alongside the new broadband plans, Reliance Jio also announced that all the new customers would be eligible for free JioFiber trial for 30 days. As part of the trial period, new JioFiber customers will get 150 Mbps internet speeds, 4K Set-Top Box with access to top 10 paid OTT apps at no extra cost and free voice calling benefit.\n",
        "\n",
        "The company says if a customer does not like the service, it will take all the accessories back without asking any questions.\n",
        "\n",
        "Important Points to Note for Existing JioFiber Users\n",
        "It seems like Reliance Jio will be discontinuing the existing JioFiber plans today and the new plans will become effective on September 1. New JioFiber customers activating the service on or after September 1 will get the 30-day free trial benefit. Also, JioFiber customers onboarded between August 15 and August 31 will also get the 30-day free trial benefit as a voucher in MyJio application.\n",
        "\n",
        "Lastly, plans of all existing JioFiber customers will be upgraded to match the benefits of the new tariff plans. Jio did not announce any new affordable 1 Gbps broadband plan.\n",
        "\"\"\""
      ],
      "metadata": {
        "id": "BC4fdeQd1VMD"
      },
      "execution_count": 44,
      "outputs": []
    },
    {
      "cell_type": "code",
      "source": [
        "result = run_summarization(text, 1.2)\n",
        "print(result)"
      ],
      "metadata": {
        "colab": {
          "base_uri": "https://localhost:8080/"
        },
        "id": "oVb6rxYu1gDr",
        "outputId": "727c8039-b8a8-4478-a18a-21a78d4261dd"
      },
      "execution_count": 45,
      "outputs": [
        {
          "output_type": "stream",
          "name": "stdout",
          "text": [
            " \n",
            "Reliance Jio has been under the radar for not launching impressive JioFiber plans. The Rs 399 JioFiber plan offers 30 Mbps speeds, unlimited data and unlimited voice calling benefit. Lastly, plans of all existing JioFiber customers will be upgraded to match the benefits of the new tariff plans. Jio did not announce any new affordable 1 Gbps broadband plan.\n"
          ]
        }
      ]
    },
    {
      "cell_type": "code",
      "source": [],
      "metadata": {
        "id": "oaUbxTS717Yy"
      },
      "execution_count": null,
      "outputs": []
    }
  ]
}