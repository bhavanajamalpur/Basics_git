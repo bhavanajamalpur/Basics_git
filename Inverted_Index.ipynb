{
  "nbformat": 4,
  "nbformat_minor": 0,
  "metadata": {
    "colab": {
      "provenance": [],
      "authorship_tag": "ABX9TyPUYoAJENBz5RR2ESupOwhy",
      "include_colab_link": true
    },
    "kernelspec": {
      "name": "python3",
      "display_name": "Python 3"
    },
    "language_info": {
      "name": "python"
    }
  },
  "cells": [
    {
      "cell_type": "markdown",
      "metadata": {
        "id": "view-in-github",
        "colab_type": "text"
      },
      "source": [
        "<a href=\"https://colab.research.google.com/github/bhavanajamalpur/Basics_git/blob/main/Inverted_Index.ipynb\" target=\"_parent\"><img src=\"https://colab.research.google.com/assets/colab-badge.svg\" alt=\"Open In Colab\"/></a>"
      ]
    },
    {
      "cell_type": "code",
      "execution_count": 1,
      "metadata": {
        "colab": {
          "base_uri": "https://localhost:8080/"
        },
        "id": "8MOFiVlwvYCJ",
        "outputId": "37bb354c-a926-42d8-ab0b-7c224970df63"
      },
      "outputs": [
        {
          "output_type": "stream",
          "name": "stdout",
          "text": [
            "lazy -> Document 1, Document 2\n",
            "fox -> Document 1\n",
            "the -> Document 1, Document 2\n",
            "sun. -> Document 2\n",
            "jumped -> Document 1\n",
            "dog -> Document 2\n",
            "brown -> Document 1\n",
            "dog. -> Document 1\n",
            "in -> Document 2\n",
            "over -> Document 1\n",
            "quick -> Document 1\n",
            "slept -> Document 2\n"
          ]
        }
      ],
      "source": [
        "# Define the documents\n",
        "document1 = \"The quick brown fox jumped over the lazy dog.\"\n",
        "document2 = \"The lazy dog slept in the sun.\"\n",
        "\n",
        "# Step 1: Tokenize the documents\n",
        "# Convert each document to lowercase and split it into words\n",
        "tokens1 = document1.lower().split()\n",
        "tokens2 = document2.lower().split()\n",
        "\n",
        "# Combine the tokens into a list of unique terms\n",
        "terms = list(set(tokens1 + tokens2))\n",
        "\n",
        "# Step 2: Build the inverted index\n",
        "# Create an empty dictionary to store the inverted index\n",
        "inverted_index = {}\n",
        "\n",
        "# For each term, find the documents that contain it\n",
        "for term in terms:\n",
        "\tdocuments = []\n",
        "\tif term in tokens1:\n",
        "\t\tdocuments.append(\"Document 1\")\n",
        "\tif term in tokens2:\n",
        "\t\tdocuments.append(\"Document 2\")\n",
        "\tinverted_index[term] = documents\n",
        "\n",
        "# Step 3: Print the inverted index\n",
        "for term, documents in inverted_index.items():\n",
        "\tprint(term, \"->\", \", \".join(documents))\n"
      ]
    }
  ]
}