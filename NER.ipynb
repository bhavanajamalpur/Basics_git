{
  "nbformat": 4,
  "nbformat_minor": 0,
  "metadata": {
    "colab": {
      "provenance": [],
      "authorship_tag": "ABX9TyMc6bP21aZ1/KbP11WQv1wg",
      "include_colab_link": true
    },
    "kernelspec": {
      "name": "python3",
      "display_name": "Python 3"
    },
    "language_info": {
      "name": "python"
    }
  },
  "cells": [
    {
      "cell_type": "markdown",
      "metadata": {
        "id": "view-in-github",
        "colab_type": "text"
      },
      "source": [
        "<a href=\"https://colab.research.google.com/github/bhavanajamalpur/Basics_git/blob/main/NER.ipynb\" target=\"_parent\"><img src=\"https://colab.research.google.com/assets/colab-badge.svg\" alt=\"Open In Colab\"/></a>"
      ]
    },
    {
      "cell_type": "code",
      "execution_count": null,
      "metadata": {
        "colab": {
          "base_uri": "https://localhost:8080/"
        },
        "id": "kE6NFyJKMiGk",
        "outputId": "29a5dee4-8a8a-4476-837b-6281b724ba7a"
      },
      "outputs": [
        {
          "output_type": "stream",
          "name": "stdout",
          "text": [
            "Requirement already satisfied: nltk==3.2.4 in /usr/local/lib/python3.10/dist-packages (3.2.4)\n",
            "Requirement already satisfied: six in /usr/local/lib/python3.10/dist-packages (from nltk==3.2.4) (1.16.0)\n",
            "--2024-03-21 04:11:40--  http://nlp.stanford.edu/software/stanford-ner-2015-04-20.zip\n",
            "Resolving nlp.stanford.edu (nlp.stanford.edu)... 171.64.67.140\n",
            "Connecting to nlp.stanford.edu (nlp.stanford.edu)|171.64.67.140|:80... connected.\n",
            "HTTP request sent, awaiting response... 302 Found\n",
            "Location: https://nlp.stanford.edu/software/stanford-ner-2015-04-20.zip [following]\n",
            "--2024-03-21 04:11:40--  https://nlp.stanford.edu/software/stanford-ner-2015-04-20.zip\n",
            "Connecting to nlp.stanford.edu (nlp.stanford.edu)|171.64.67.140|:443... connected.\n",
            "HTTP request sent, awaiting response... 302 FOUND\n",
            "Location: https://downloads.cs.stanford.edu/nlp/software/stanford-ner-2015-04-20.zip [following]\n",
            "--2024-03-21 04:11:41--  https://downloads.cs.stanford.edu/nlp/software/stanford-ner-2015-04-20.zip\n",
            "Resolving downloads.cs.stanford.edu (downloads.cs.stanford.edu)... 171.64.64.22\n",
            "Connecting to downloads.cs.stanford.edu (downloads.cs.stanford.edu)|171.64.64.22|:443... connected.\n",
            "HTTP request sent, awaiting response... 200 OK\n",
            "Length: 176961718 (169M) [application/zip]\n",
            "Saving to: ‘stanford-ner-2015-04-20.zip.1’\n",
            "\n",
            "      stanford-ner-  41%[=======>            ]  70.02M  5.09MB/s    eta 16s    "
          ]
        }
      ],
      "source": [
        "#Downloading the StanfordNER zip file using the following commands\n",
        "!pip3 install nltk==3.2.4\n",
        "!wget http://nlp.stanford.edu/software/stanford-ner-2015-04-20.zip\n",
        "!unzip stanford-ner-2015-04-20.zip"
      ]
    },
    {
      "cell_type": "code",
      "source": [
        "#Loading the model\n",
        "from nltk.tag.stanford import StanfordNERTagger\n",
        "jar = \"stanford-ner-2015-04-20/stanford-ner-3.5.2.jar\"\n",
        "model = \"stanford-ner-2015-04-20/classifiers/\"\n",
        "st_4class = StanfordNERTagger(model + \"english.conll.4class.distsim.crf.ser.gz\", jar, encoding='utf8')"
      ],
      "metadata": {
        "id": "QwLtBuiTMmOQ"
      },
      "execution_count": 2,
      "outputs": []
    },
    {
      "cell_type": "code",
      "source": [
        "example_document = '''Deepak Jasani, Head of retail research, HDFC Securities, said: “Investors will look to the European Central Bank later Thursday for reassurance that surging prices are just transitory, and not about to spiral out of control. In addition to the ECB policy meeting, investors are awaiting a report later Thursday on US economic growth, which is likely to show a cooling recovery, as well as weekly jobs data.”.'''"
      ],
      "metadata": {
        "id": "BVkz-dJLM7IH"
      },
      "execution_count": 3,
      "outputs": []
    },
    {
      "cell_type": "code",
      "source": [
        "#Providing the news article to the model\n",
        "st_4class.tag(example_document.split())"
      ],
      "metadata": {
        "colab": {
          "base_uri": "https://localhost:8080/"
        },
        "id": "9w7qoNPINAbR",
        "outputId": "1b1d48af-c9ed-4534-e0bc-8d29b9a69bdd"
      },
      "execution_count": 4,
      "outputs": [
        {
          "output_type": "execute_result",
          "data": {
            "text/plain": [
              "[('Deepak', 'PERSON'),\n",
              " ('Jasani,', 'PERSON'),\n",
              " ('Head', 'PERSON'),\n",
              " ('of', 'O'),\n",
              " ('retail', 'O'),\n",
              " ('research,', 'O'),\n",
              " ('HDFC', 'O'),\n",
              " ('Securities,', 'O'),\n",
              " ('said:', 'O'),\n",
              " ('“Investors', 'O'),\n",
              " ('will', 'O'),\n",
              " ('look', 'O'),\n",
              " ('to', 'O'),\n",
              " ('the', 'O'),\n",
              " ('European', 'ORGANIZATION'),\n",
              " ('Central', 'ORGANIZATION'),\n",
              " ('Bank', 'ORGANIZATION'),\n",
              " ('later', 'O'),\n",
              " ('Thursday', 'O'),\n",
              " ('for', 'O'),\n",
              " ('reassurance', 'O'),\n",
              " ('that', 'O'),\n",
              " ('surging', 'O'),\n",
              " ('prices', 'O'),\n",
              " ('are', 'O'),\n",
              " ('just', 'O'),\n",
              " ('transitory,', 'O'),\n",
              " ('and', 'O'),\n",
              " ('not', 'O'),\n",
              " ('about', 'O'),\n",
              " ('to', 'O'),\n",
              " ('spiral', 'O'),\n",
              " ('out', 'O'),\n",
              " ('of', 'O'),\n",
              " ('control.', 'O'),\n",
              " ('In', 'O'),\n",
              " ('addition', 'O'),\n",
              " ('to', 'O'),\n",
              " ('the', 'O'),\n",
              " ('ECB', 'ORGANIZATION'),\n",
              " ('policy', 'O'),\n",
              " ('meeting,', 'O'),\n",
              " ('investors', 'O'),\n",
              " ('are', 'O'),\n",
              " ('awaiting', 'O'),\n",
              " ('a', 'O'),\n",
              " ('report', 'O'),\n",
              " ('later', 'O'),\n",
              " ('Thursday', 'O'),\n",
              " ('on', 'O'),\n",
              " ('US', 'LOCATION'),\n",
              " ('economic', 'O'),\n",
              " ('growth,', 'O'),\n",
              " ('which', 'O'),\n",
              " ('is', 'O'),\n",
              " ('likely', 'O'),\n",
              " ('to', 'O'),\n",
              " ('show', 'O'),\n",
              " ('a', 'O'),\n",
              " ('cooling', 'O'),\n",
              " ('recovery,', 'O'),\n",
              " ('as', 'O'),\n",
              " ('well', 'O'),\n",
              " ('as', 'O'),\n",
              " ('weekly', 'O'),\n",
              " ('jobs', 'O'),\n",
              " ('data.”.', 'O')]"
            ]
          },
          "metadata": {},
          "execution_count": 4
        }
      ]
    },
    {
      "cell_type": "code",
      "source": [],
      "metadata": {
        "id": "JegHKfi0NG3O"
      },
      "execution_count": null,
      "outputs": []
    }
  ]
}