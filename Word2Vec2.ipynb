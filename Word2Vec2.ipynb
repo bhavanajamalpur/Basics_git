{
  "nbformat": 4,
  "nbformat_minor": 0,
  "metadata": {
    "colab": {
      "provenance": [],
      "authorship_tag": "ABX9TyMDbMACVwsS/aygvskSG/i+",
      "include_colab_link": true
    },
    "kernelspec": {
      "name": "python3",
      "display_name": "Python 3"
    },
    "language_info": {
      "name": "python"
    }
  },
  "cells": [
    {
      "cell_type": "markdown",
      "metadata": {
        "id": "view-in-github",
        "colab_type": "text"
      },
      "source": [
        "<a href=\"https://colab.research.google.com/github/bhavanajamalpur/Basics_git/blob/main/Word2Vec2.ipynb\" target=\"_parent\"><img src=\"https://colab.research.google.com/assets/colab-badge.svg\" alt=\"Open In Colab\"/></a>"
      ]
    },
    {
      "cell_type": "code",
      "execution_count": 1,
      "metadata": {
        "id": "uv1UJ9aY0E4m"
      },
      "outputs": [],
      "source": [
        "import string\n",
        "import nltk\n",
        "from nltk.corpus import brown\n",
        "from gensim.models import Word2Vec\n",
        "from sklearn.decomposition import PCA\n",
        "from matplotlib import pyplot"
      ]
    },
    {
      "cell_type": "code",
      "source": [
        "nltk.download(\"brown\")\n",
        "\n",
        "# Preprocessing data to lowercase all words and remove single punctuation words\n",
        "document = brown.sents()\n",
        "data = []\n",
        "for sent in document:\n",
        "  new_sent = []\n",
        "  for word in sent:\n",
        "    new_word = word.lower()\n",
        "    if new_word[0] not in string.punctuation:\n",
        "      new_sent.append(new_word)\n",
        "  if len(new_sent) > 0:\n",
        "    data.append(new_sent)"
      ],
      "metadata": {
        "colab": {
          "base_uri": "https://localhost:8080/"
        },
        "id": "kFsS1aaz0LFm",
        "outputId": "85c7f3b0-5e1b-4c07-acb0-cd0b67570bb7"
      },
      "execution_count": 2,
      "outputs": [
        {
          "output_type": "stream",
          "name": "stderr",
          "text": [
            "[nltk_data] Downloading package brown to /root/nltk_data...\n",
            "[nltk_data]   Unzipping corpora/brown.zip.\n"
          ]
        }
      ]
    },
    {
      "cell_type": "code",
      "source": [
        "model = Word2Vec(sentences=data,vector_size=100, window=5, min_count=1, workers=4)"
      ],
      "metadata": {
        "id": "OlrTjdQ-0Rc3"
      },
      "execution_count": 4,
      "outputs": []
    },
    {
      "cell_type": "code",
      "source": [
        "import string\n",
        "import nltk\n",
        "from nltk.corpus import brown\n",
        "from gensim.models import Word2Vec\n",
        "from sklearn.decomposition import PCA\n",
        "from matplotlib import pyplot\n",
        "\n",
        "nltk.download(\"brown\")\n",
        "\n",
        "# Preprocessing data to lowercase all words and remove single punctuation words\n",
        "document = brown.sents()\n",
        "data = []\n",
        "for sent in document:\n",
        "  new_sent = []\n",
        "  for word in sent:\n",
        "    new_word = word.lower()\n",
        "    if new_word[0] not in string.punctuation:\n",
        "      new_sent.append(new_word)\n",
        "  if len(new_sent) > 0:\n",
        "    data.append(new_sent)\n",
        "\n",
        "# Creating Word2Vec\n",
        "model = Word2Vec(\n",
        "    sentences = data,\n",
        "    size = 50,\n",
        "    window = 10,\n",
        "    iter = 20,\n",
        ")\n",
        "\n",
        "\n",
        ""
      ],
      "metadata": {
        "id": "bmrdXQKD06Sg"
      },
      "execution_count": null,
      "outputs": []
    },
    {
      "cell_type": "code",
      "source": [
        "# Vector for word love\n",
        "print(\"Vector for love:\")\n",
        "print(model.wv[\"love\"])\n",
        "print()"
      ],
      "metadata": {
        "colab": {
          "base_uri": "https://localhost:8080/"
        },
        "id": "VWxMIMMH08wd",
        "outputId": "245494cf-a42d-42ae-a036-01463ee09788"
      },
      "execution_count": 5,
      "outputs": [
        {
          "output_type": "stream",
          "name": "stdout",
          "text": [
            "Vector for love:\n",
            "[-0.07128214  0.24255887  0.20920676  0.17605042 -0.6342401  -0.7580653\n",
            " -0.04640837  0.8483195  -0.35794276 -0.70327675  0.07549286 -0.49345648\n",
            " -0.30753186  0.19810261  0.41902205 -0.34942102  0.79013544 -0.5298546\n",
            "  0.4931404  -1.1611856   0.3820739   0.5302081   0.43640724 -0.11709633\n",
            " -0.45600235  0.05983487 -0.59666306 -0.05848892 -0.5444092  -0.0673956\n",
            "  1.2151225  -0.48217815  0.43608585 -0.7569524   0.10231509  0.22761673\n",
            "  0.47202346 -0.29800144  0.25916445 -0.76124847 -0.5131733  -0.19929881\n",
            " -0.7339451  -0.15250777  0.44333184  0.1697245  -0.5528736  -0.11456758\n",
            "  0.32047343 -0.29245323  0.4093838  -0.78819734 -0.31469068  0.01898978\n",
            "  0.09793933  0.6039236  -0.09716569 -0.3226062  -0.26616862  0.34788314\n",
            "  0.08453284  0.17172399  0.14289795  0.83804244 -0.60182273  0.42744416\n",
            " -0.3951705   0.50467646 -0.6551581   0.8088365  -0.15820257  0.21449964\n",
            "  0.6639748   0.1191184   0.5256309   0.42635182  0.16363223 -0.4408788\n",
            " -0.3135986  -0.11931025 -0.2555263   0.04158715 -0.41278496  0.5095293\n",
            " -0.30212542 -0.24718845  0.58376765  0.01355506  0.10326961  0.13953413\n",
            "  1.1069416  -0.23129845 -0.36927396  0.52185434  0.91917473  1.04493\n",
            "  0.1295158  -0.06269006 -0.66029525 -0.48487815]\n",
            "\n"
          ]
        }
      ]
    },
    {
      "cell_type": "code",
      "source": [
        "# Finding most similar words\n",
        "print(\"3 words similar to car\")\n",
        "#similar_words = model.wv.most_similar(\"learning\")\n",
        "words = model.wv.most_similar(\"car\", topn=3)\n",
        "for word in words:\n",
        "  print(word)\n",
        "print()"
      ],
      "metadata": {
        "colab": {
          "base_uri": "https://localhost:8080/"
        },
        "id": "2F8RXLX31CKN",
        "outputId": "72b89358-364e-46bd-a792-a696f705f796"
      },
      "execution_count": 7,
      "outputs": [
        {
          "output_type": "stream",
          "name": "stdout",
          "text": [
            "3 words similar to car\n",
            "('corner', 0.9612537026405334)\n",
            "('train', 0.9515524506568909)\n",
            "('room', 0.9502038359642029)\n",
            "\n"
          ]
        }
      ]
    },
    {
      "cell_type": "code",
      "source": [
        "#Visualizing data\n",
        "words = [\"france\", \"germany\", \"india\", \"truck\", \"boat\", \"road\", \"teacher\", \"student\"]\n",
        "\n",
        "X = model.wv[words]\n",
        "pca = PCA(n_components=2)\n",
        "result = pca.fit_transform(X)"
      ],
      "metadata": {
        "id": "IixpIkbj13iQ"
      },
      "execution_count": 8,
      "outputs": []
    },
    {
      "cell_type": "code",
      "source": [
        "pyplot.scatter(result[:, 0], result[:, 1])\n",
        "for i, word in enumerate(words):\n",
        "    pyplot.annotate(word, xy=(result[i, 0], result[i, 1]))\n",
        "pyplot.show()"
      ],
      "metadata": {
        "colab": {
          "base_uri": "https://localhost:8080/",
          "height": 434
        },
        "id": "1zfB38pD18Iz",
        "outputId": "e71e445a-9782-4baf-8818-c8abaf728da7"
      },
      "execution_count": 9,
      "outputs": [
        {
          "output_type": "display_data",
          "data": {
            "text/plain": [
              "<Figure size 640x480 with 1 Axes>"
            ],
            "image/png": "[encoded data removed]"
          },
          "metadata": {}
        }
      ]
    }
  ]
}