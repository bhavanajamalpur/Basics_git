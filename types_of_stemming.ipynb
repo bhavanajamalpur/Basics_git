{
  "nbformat": 4,
  "nbformat_minor": 0,
  "metadata": {
    "colab": {
      "provenance": [],
      "authorship_tag": "ABX9TyM9LEvnB20VQP9TMVrG5Uj8",
      "include_colab_link": true
    },
    "kernelspec": {
      "name": "python3",
      "display_name": "Python 3"
    },
    "language_info": {
      "name": "python"
    }
  },
  "cells": [
    {
      "cell_type": "markdown",
      "metadata": {
        "id": "view-in-github",
        "colab_type": "text"
      },
      "source": [
        "<a href=\"https://colab.research.google.com/github/bhavanajamalpur/Basics_git/blob/main/types_of_stemming.ipynb\" target=\"_parent\"><img src=\"https://colab.research.google.com/assets/colab-badge.svg\" alt=\"Open In Colab\"/></a>"
      ]
    },
    {
      "cell_type": "code",
      "execution_count": 4,
      "metadata": {
        "colab": {
          "base_uri": "https://localhost:8080/"
        },
        "id": "b9qjDlZA4QvK",
        "outputId": "d9a949e2-e04f-4c97-e302-0ebfd46cda6e"
      },
      "outputs": [
        {
          "output_type": "stream",
          "name": "stdout",
          "text": [
            "generous-->gener\n",
            "generate-->gener\n",
            "generously-->gener\n",
            "generation-->gener\n"
          ]
        }
      ],
      "source": [
        "from nltk.stem import PorterStemmer\n",
        "porter=PorterStemmer()\n",
        "words = [ 'generous','generate','generously','generation']\n",
        "for word in words:\n",
        " print(f\"{word}-->{porter.stem(word)}\")"
      ]
    },
    {
      "cell_type": "code",
      "source": [
        "from nltk.stem import SnowballStemmer\n",
        "snowball=SnowballStemmer(language='english')\n",
        "words = [ 'generous','generate','generously','generation']\n",
        "for word in words:\n",
        " print(f\"{word}-->{snowball.stem(word)}\")"
      ],
      "metadata": {
        "colab": {
          "base_uri": "https://localhost:8080/"
        },
        "id": "bBsYwY3UB_q2",
        "outputId": "78ef7580-0d78-47ca-d3f1-a88f732f06b4"
      },
      "execution_count": 8,
      "outputs": [
        {
          "output_type": "stream",
          "name": "stdout",
          "text": [
            "generous-->generous\n",
            "generate-->generat\n",
            "generously-->generous\n",
            "generation-->generat\n"
          ]
        }
      ]
    },
    {
      "cell_type": "code",
      "source": [
        "from nltk.stem import LancasterStemmer\n",
        "lan=LancasterStemmer()\n",
        "words = [ 'generous','generate','generously','generation']\n",
        "for word in words:\n",
        " print(f\"{word}-->{lan.stem(word)}\")"
      ],
      "metadata": {
        "colab": {
          "base_uri": "https://localhost:8080/"
        },
        "id": "g9UfdxbwFguQ",
        "outputId": "48c03c84-f95a-459f-9487-0daac260dcbc"
      },
      "execution_count": 11,
      "outputs": [
        {
          "output_type": "stream",
          "name": "stdout",
          "text": [
            "generous-->gen\n",
            "generate-->gen\n",
            "generously-->gen\n",
            "generation-->gen\n"
          ]
        }
      ]
    }
  ]
}