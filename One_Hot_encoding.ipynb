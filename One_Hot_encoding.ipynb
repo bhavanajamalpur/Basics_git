{
  "nbformat": 4,
  "nbformat_minor": 0,
  "metadata": {
    "colab": {
      "provenance": [],
      "authorship_tag": "ABX9TyOmw6jh9PX/JAja6tek/+vV",
      "include_colab_link": true
    },
    "kernelspec": {
      "name": "python3",
      "display_name": "Python 3"
    },
    "language_info": {
      "name": "python"
    }
  },
  "cells": [
    {
      "cell_type": "markdown",
      "metadata": {
        "id": "view-in-github",
        "colab_type": "text"
      },
      "source": [
        "<a href=\"https://colab.research.google.com/github/bhavanajamalpur/Basics_git/blob/main/One_Hot_encoding.ipynb\" target=\"_parent\"><img src=\"https://colab.research.google.com/assets/colab-badge.svg\" alt=\"Open In Colab\"/></a>"
      ]
    },
    {
      "cell_type": "code",
      "execution_count": 17,
      "metadata": {
        "colab": {
          "base_uri": "https://localhost:8080/"
        },
        "id": "EsD2WLUvvZT1",
        "outputId": "42efb0ba-354d-47d4-b5e5-9dd85ae469f1"
      },
      "outputs": [
        {
          "output_type": "stream",
          "name": "stdout",
          "text": [
            "{'dog': 1, 'eats': 2, 'meat': 3, 'man': 4}\n"
          ]
        }
      ],
      "source": [
        "corpus=['dog eats meat','man eats meat']\n",
        "vocab = {}\n",
        "count = 0\n",
        "for doc in corpus:\n",
        "  for word in doc.split():\n",
        "    if word not in vocab:\n",
        "      count = count+1\n",
        "      vocab[word] = count\n",
        "print(vocab)\n",
        "\n"
      ]
    },
    {
      "cell_type": "code",
      "source": [
        "l1 = [0]*4\n",
        "l1\n"
      ],
      "metadata": {
        "colab": {
          "base_uri": "https://localhost:8080/"
        },
        "id": "MWafTYWAyIRv",
        "outputId": "2476bed6-1903-4b6c-d7f9-45978027dd1b"
      },
      "execution_count": 18,
      "outputs": [
        {
          "output_type": "execute_result",
          "data": {
            "text/plain": [
              "[0, 0, 0, 0]"
            ]
          },
          "metadata": {},
          "execution_count": 18
        }
      ]
    },
    {
      "cell_type": "code",
      "source": [
        "l1[0] = 1 # indexing starts from zero\n",
        "l1"
      ],
      "metadata": {
        "colab": {
          "base_uri": "https://localhost:8080/"
        },
        "id": "4DrFnLWYyQol",
        "outputId": "c685a3b8-9d50-464c-847c-86170e3e2e53"
      },
      "execution_count": 19,
      "outputs": [
        {
          "output_type": "execute_result",
          "data": {
            "text/plain": [
              "[1, 0, 0, 0]"
            ]
          },
          "metadata": {},
          "execution_count": 19
        }
      ]
    },
    {
      "cell_type": "code",
      "source": [
        "def one_hot(doc):\n",
        "  one_hot = []\n",
        "  for word in doc.split():\n",
        "    temp = [0]*len(vocab)\n",
        "    if word in vocab:\n",
        "      temp[vocab[word]-1] = 1\n",
        "    one_hot.append(temp)\n",
        "  return one_hot"
      ],
      "metadata": {
        "id": "ji5zyxYPxjyc"
      },
      "execution_count": 15,
      "outputs": []
    },
    {
      "cell_type": "code",
      "source": [
        "one_hot(\"dog eats meat\")"
      ],
      "metadata": {
        "colab": {
          "base_uri": "https://localhost:8080/"
        },
        "id": "khEP7L05xsm2",
        "outputId": "50641634-f9c0-49d7-96be-117a36e543ff"
      },
      "execution_count": 16,
      "outputs": [
        {
          "output_type": "execute_result",
          "data": {
            "text/plain": [
              "[[1, 0, 0, 0], [0, 1, 0, 0], [0, 0, 1, 0]]"
            ]
          },
          "metadata": {},
          "execution_count": 16
        }
      ]
    }
  ]
}