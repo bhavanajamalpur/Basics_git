{
  "nbformat": 4,
  "nbformat_minor": 0,
  "metadata": {
    "colab": {
      "provenance": [],
      "authorship_tag": "ABX9TyNjixZ6HgJcDgogdTS7uaj4",
      "include_colab_link": true
    },
    "kernelspec": {
      "name": "python3",
      "display_name": "Python 3"
    },
    "language_info": {
      "name": "python"
    }
  },
  "cells": [
    {
      "cell_type": "markdown",
      "metadata": {
        "id": "view-in-github",
        "colab_type": "text"
      },
      "source": [
        "<a href=\"https://colab.research.google.com/github/bhavanajamalpur/Basics_git/blob/main/Unigram_Bigram_Trigram.ipynb\" target=\"_parent\"><img src=\"https://colab.research.google.com/assets/colab-badge.svg\" alt=\"Open In Colab\"/></a>"
      ]
    },
    {
      "cell_type": "code",
      "execution_count": 10,
      "metadata": {
        "colab": {
          "base_uri": "https://localhost:8080/"
        },
        "id": "QYag6VOq1ZQm",
        "outputId": "92ceaaad-e939-47d8-f7b5-989d57bd64d9"
      },
      "outputs": [
        {
          "output_type": "stream",
          "name": "stdout",
          "text": [
            "Unigram Model is:\n",
            "\n",
            "('You',)\n",
            "('have',)\n",
            "('got',)\n",
            "('to',)\n",
            "('get',)\n",
            "('up',)\n",
            "('every',)\n",
            "('morning',)\n",
            "('with',)\n",
            "('determination',)\n",
            "('if',)\n",
            "('you',)\n",
            "('are',)\n",
            "('going',)\n",
            "('to',)\n",
            "('go',)\n",
            "('to',)\n",
            "('bed',)\n",
            "('with',)\n",
            "('satisfaction.',)\n"
          ]
        }
      ],
      "source": [
        "#Unigrams or 1-grams\n",
        "from nltk.util import ngrams\n",
        "n = 1\n",
        "sentence = 'You have got to get up every morning with determination if you are going to go to bed with satisfaction.'\n",
        "unigrams = ngrams(sentence.split(), n)\n",
        "print(\"Unigram Model is:\\n\")\n",
        "for item in unigrams:\n",
        "   print(item)"
      ]
    },
    {
      "cell_type": "code",
      "source": [
        "#Implementing Bigram Model\n",
        "from nltk.util import ngrams\n",
        "n = 2\n",
        "sentence = 'The purpose of our life is to happy'\n",
        "bigrams = ngrams(sentence.split(), n)\n",
        "print(\"Bigram Model is:\\n\")\n",
        "for item in bigrams:\n",
        " print(item)"
      ],
      "metadata": {
        "colab": {
          "base_uri": "https://localhost:8080/"
        },
        "id": "g86y7wOH6ouz",
        "outputId": "53007d82-bc6f-48a2-c71d-da21559360a7"
      },
      "execution_count": 8,
      "outputs": [
        {
          "output_type": "stream",
          "name": "stdout",
          "text": [
            "Bigram Model is:\n",
            "\n",
            "('The', 'purpose')\n",
            "('purpose', 'of')\n",
            "('of', 'our')\n",
            "('our', 'life')\n",
            "('life', 'is')\n",
            "('is', 'to')\n",
            "('to', 'happy')\n"
          ]
        }
      ]
    },
    {
      "cell_type": "code",
      "source": [
        "#Implementing Trigram Model\n",
        "from nltk.util import ngrams\n",
        "n = 3\n",
        "sentence = 'Whoever is happy will make others happy too'\n",
        "trigrams = ngrams(sentence.split(), n)\n",
        "print(\"Trigram Model is:\\n\")\n",
        "for item in trigrams:\n",
        "  print(item)"
      ],
      "metadata": {
        "colab": {
          "base_uri": "https://localhost:8080/"
        },
        "id": "ME6P7kcj7Uvp",
        "outputId": "fedad665-83c0-4922-f4fb-4dfcc7272b8e"
      },
      "execution_count": 9,
      "outputs": [
        {
          "output_type": "stream",
          "name": "stdout",
          "text": [
            "Trigram Model is:\n",
            "\n",
            "('Whoever', 'is', 'happy')\n",
            "('is', 'happy', 'will')\n",
            "('happy', 'will', 'make')\n",
            "('will', 'make', 'others')\n",
            "('make', 'others', 'happy')\n",
            "('others', 'happy', 'too')\n"
          ]
        }
      ]
    }
  ]
}